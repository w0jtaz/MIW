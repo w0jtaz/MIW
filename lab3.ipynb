{
 "cells": [
  {
   "cell_type": "code",
   "execution_count": 1,
   "id": "d0aeb4cd",
   "metadata": {
    "scrolled": true
   },
   "outputs": [
    {
     "ename": "ValueError",
     "evalue": "Macierz nie ma odwrotności, wyznacznik musi być różny od 0",
     "output_type": "error",
     "traceback": [
      "\u001B[1;31m---------------------------------------------------------------------------\u001B[0m",
      "\u001B[1;31mValueError\u001B[0m                                Traceback (most recent call last)",
      "Cell \u001B[1;32mIn[1], line 36\u001B[0m\n\u001B[0;32m     34\u001B[0m reverse(matrix_a)\n\u001B[0;32m     35\u001B[0m matrix_b\u001B[38;5;241m=\u001B[39m[[\u001B[38;5;241m-\u001B[39m\u001B[38;5;241m3\u001B[39m,\u001B[38;5;241m-\u001B[39m\u001B[38;5;241m9\u001B[39m],[\u001B[38;5;241m1\u001B[39m,\u001B[38;5;241m3\u001B[39m]]\n\u001B[1;32m---> 36\u001B[0m \u001B[43mreverse\u001B[49m\u001B[43m(\u001B[49m\u001B[43mmatrix_b\u001B[49m\u001B[43m)\u001B[49m\n",
      "Cell \u001B[1;32mIn[1], line 14\u001B[0m, in \u001B[0;36mreverse\u001B[1;34m(matrix)\u001B[0m\n\u001B[0;32m     11\u001B[0m det \u001B[38;5;241m=\u001B[39m a\u001B[38;5;241m*\u001B[39md \u001B[38;5;241m-\u001B[39m b\u001B[38;5;241m*\u001B[39mc  \u001B[38;5;66;03m#wyznacznik macierzy\u001B[39;00m\n\u001B[0;32m     13\u001B[0m \u001B[38;5;28;01mif\u001B[39;00m det \u001B[38;5;241m==\u001B[39m \u001B[38;5;241m0\u001B[39m:\n\u001B[1;32m---> 14\u001B[0m     \u001B[38;5;28;01mraise\u001B[39;00m \u001B[38;5;167;01mValueError\u001B[39;00m(\u001B[38;5;124m\"\u001B[39m\u001B[38;5;124mMacierz nie ma odwrotności, wyznacznik musi być różny od 0\u001B[39m\u001B[38;5;124m\"\u001B[39m)\n\u001B[0;32m     15\u001B[0m a_d\u001B[38;5;241m=\u001B[39m d \u001B[38;5;66;03m#a_d = dopelnienie a\u001B[39;00m\n\u001B[0;32m     16\u001B[0m b_d \u001B[38;5;241m=\u001B[39m \u001B[38;5;241m-\u001B[39mb\n",
      "\u001B[1;31mValueError\u001B[0m: Macierz nie ma odwrotności, wyznacznik musi być różny od 0"
     ]
    }
   ],
   "source": [
    "def reverse(matrix): #zdefiniowanie funkcji przyjmującej macierz jako argument\n",
    "    if len(matrix) != 2 or len(matrix[0]) != 2: #Warunek sprawdzający, czy wymiary macierzy są równe 2x2\n",
    "        print(\"Nieprawidłowy wymiar macierzy\")\n",
    "        return None #Jeśli warunek z linii 2 nie jest spełniony, wypisuje komunikat o nieprawidłowych wymiarach macierzy i zwraca wartość \"None\".\n",
    "    else: #W przeciwnym wypadku przypisuje elementy macierzy do zmiennych \"a\", \"b\", \"c\", \"d\"\n",
    "        a = matrix[0][0]\n",
    "        b = matrix[0][1]\n",
    "        c = matrix[1][0]\n",
    "        d = matrix[1][1]\n",
    "        \n",
    "        det = a*d - b*c  #wyznacznik macierzy\n",
    "        \n",
    "        if det == 0:\n",
    "            raise ValueError(\"Macierz nie ma odwrotności, wyznacznik musi być różny od 0\")\n",
    "        a_d= d #a_d = dopelnienie a\n",
    "        b_d = -b\n",
    "        c_d = -c\n",
    "        d_d = a\n",
    "        matrix_d = [[a_d, b_d], [c_d, d_d]]  # macierz dopełnień algebraicznych\n",
    "        \n",
    "        transposed = [] #utworzenie pustej listy, która będzie przechowywać wynikowe transponowane elementy macierzy\n",
    "        for i in range(len(matrix_d[0])): #pętla \"for\" iterująca po indeksach kolumn macierzy\n",
    "            row = [] #utworzenie pustej listy \"row\", która będzie przechowywać wiersz transponowanej macierzy\n",
    "            for j in range(len(matrix_d)): #pętla \"for\" iterująca po indeksach wierszy macierzy\n",
    "                row.append(matrix_d[j][i]) #Dodanie elementu o indeksie (j, i) do listy \"row\"\n",
    "            transposed.append(row) #dodanie listy \"row\" do listy \"transposed\"\n",
    "        a_d = a_d/det #dzielenie elementów macierzy dopełnień przez wyznacznik\n",
    "        b_d = b_d/det\n",
    "        c_d = b_d/det\n",
    "        d_d = d_d/det\n",
    "        return [[a_d, b_d], [c_d, d_d]] #zwrócenie macierzy odwrotnej\n",
    "\n",
    "matrix_a=[[3,6],[0,9]]\n",
    "reverse(matrix_a)\n",
    "matrix_b=[[-3,-9],[1,3]]\n",
    "reverse(matrix_b)"
   ]
  },
  {
   "cell_type": "code",
   "execution_count": 10,
   "id": "14feb325",
   "metadata": {},
   "outputs": [],
   "source": [
    "def reverse(matrix):\n",
    "    if len(matrix) != 3 or len(matrix[0]) != 3: #Sprawdzenie wymiarów macierzy. Jeśli nie są równe 3x3, to wypisuje informację o błędzie i zwraca wartość \"None\"\n",
    "        print(\"Nieprawidłowy wymiar macierzy\")\n",
    "        return None\n",
    "    else:\n",
    "        a, b, c = matrix[0] #Przypisanie elementów macierzy do zmiennych a, b i c\n",
    "        d, e, f = matrix[1] #Przypisanie elementów macierzy do zmiennych d, e i f\n",
    "        g, h, i = matrix[2] #Przypisanie elementów macierzy do zmiennych g, h i i\n",
    "\n",
    "        #Obliczenie wyznacznika macierzy 3x3\n",
    "        det = a*e*i + b*f*g + c*d*h - c*e*g - b*d*i - a*f*h\n",
    "\n",
    "        #Jeśli wyznacznik jest równy 0, to macierz nie ma odwrotności. Rzuca błąd ValueError\n",
    "        if det == 0:\n",
    "            raise ValueError(\"Macierz nie ma odwrotności, wyznacznik musi być różny od 0\")\n",
    "\n",
    "        #Obliczenie dopelnień algebraicznych dla każdego elementu macierzy\n",
    "        a_d = (e*i - f*h)\n",
    "        b_d = -(b*i - c*h)\n",
    "        c_d = (b*f - c*e)\n",
    "        d_d = -(d*i - f*g)\n",
    "        e_d = (a*i - c*g)\n",
    "        f_d = -(a*f - c*d)\n",
    "        g_d = (d*h - e*g)\n",
    "        h_d = -(a*h - b*g)\n",
    "        i_d = (a*e - b*d)\n",
    "\n",
    "        #Tworzenie macierzy dopełnień algebraicznych\n",
    "        matrix_d = [[a_d, b_d, c_d], [d_d, e_d, f_d], [g_d, h_d, i_d]]\n",
    "\n",
    "        #Transponowanie macierzy dopełnień algebraicznych\n",
    "        transposed = []\n",
    "        for i in range(len(matrix_d[0])):\n",
    "            row = []\n",
    "            for j in range(len(matrix_d)):\n",
    "                row.append(matrix_d[j][i])\n",
    "            transposed.append(row)\n",
    "\n",
    "        #Podzielenie każdego elementu macierzy transponowanej przez wyznacznik, aby uzyskać macierz odwrotną\n",
    "        a_d = a_d/det\n",
    "        b_d = b_d/det\n",
    "        c_d = c_d/det\n",
    "        d_d = d_d/det\n",
    "        e_d = e_d/det\n",
    "        f_d = f_d/det\n",
    "        g_d = g_d/det\n",
    "        h_d = h_d/det\n",
    "        i_d = i_d/det\n",
    "\n",
    "        #Zwrócenie macierzy odwrotnej\n",
    "        return [[a_d, b_d, c_d], [d_d, e_d, f_d], [g_d, h_d, i_d]]\n",
    "\n",
    "matrix_3x3_a = [[1, 0, 5], [2, 7, 6], [8, 3, 2]]\n",
    "reverse(matrix_3x3_a)\n",
    "# matrix_3x3_b = [[3, -1, 1], [5, 1, 4], [-1, 3, 2]]\n",
    "# reverse(matrix_3x3_b) #wyznacznik musi być różny od 0"
   ]
  },
  {
   "cell_type": "code",
   "execution_count": 16,
   "id": "79ceedaa",
   "metadata": {},
   "outputs": [
    {
     "data": {
      "text/plain": "[[-0.9166666666666666, 0.3333333333333333, 0.08333333333333333],\n [0.03333333333333333, -0.06666666666666667, 0.03333333333333333],\n [0.5722222222222222, 0.022222222222222223, -0.09444444444444444]]"
     },
     "execution_count": 16,
     "metadata": {},
     "output_type": "execute_result"
    }
   ],
   "source": [
    "def reverse(matrix):\n",
    "    n = len(matrix)\n",
    "    if n == 2: #Warunek dla macierzy 2x2\n",
    "        a, b, c, d = matrix[0][0], matrix[0][1], matrix[1][0], matrix[1][1]\n",
    "        det = a*d - b*c #wyznaczamy wyznacznik macierzy\n",
    "        if det == 0: #jeżeli wyznacznik jest równy - zwracamy błąd\n",
    "            raise ValueError(\"Macierz nie ma odwrotności, wyznacznik musi być różny od 0\")\n",
    "        a_d, b_d, c_d, d_d = d/det, -b/det, -c/det, a/det #wyznaczamy elementy macierzy odwrotnej\n",
    "        return [[a_d, b_d], [c_d, d_d]] #zwracamy macierz odwrotną\n",
    "    elif n == 3: #Warunek dla macierzy 3x3\n",
    "        a, b, c, d, e, f, g, h, i = matrix[0][0], matrix[0][1], matrix[0][2], matrix[1][0], matrix[1][1], matrix[1][2], matrix[2][0], matrix[2][1], matrix[2][2]\n",
    "        det = a*(e*i - f*h) - b*(d*i - f*g) + c*(d*h - e*g)\n",
    "        if det == 0:\n",
    "            raise ValueError(\"Macierz nie ma odwrotności, wyznacznik musi być różny od 0\")\n",
    "        a_d = (e*i - f*h)/det #wyznaczamy elementy macierzy odwrotnej\n",
    "        b_d = -(b*i - c*h)/det\n",
    "        c_d = (b*f - c*e)/det\n",
    "        d_d = -(d*i - f*g)/det\n",
    "        e_d = (a*i - c*g)/det\n",
    "        f_d = -(a*f - c*d)/det\n",
    "        g_d = (d*h - e*g)/det\n",
    "        h_d = -(a*h - b*g)/det\n",
    "        i_d = (a*e - b*d)/det\n",
    "        return [[a_d, b_d, c_d], [d_d, e_d, f_d], [g_d, h_d, i_d]]\n",
    "    else: # jeśli macierz ma inny rozmiar wyświetlamy komunikat o błędzie\n",
    "        print(\"Nieprawidłowy wymiar macierzy\")\n",
    "        return None\n",
    "    \n",
    "matrix_2x2 = [[1, 1], [1, 2]]\n",
    "matrix_3x3 = [[1, 6, 3], [4, 7, 6], [7, 38, 9]]\n",
    "reverse(matrix_2x2)\n",
    "reverse(matrix_3x3)"
   ]
  },
  {
   "cell_type": "code",
   "execution_count": null,
   "id": "a77ef187",
   "metadata": {},
   "outputs": [],
   "source": []
  }
 ],
 "metadata": {
  "kernelspec": {
   "display_name": "Python 3 (ipykernel)",
   "language": "python",
   "name": "python3"
  },
  "language_info": {
   "codemirror_mode": {
    "name": "ipython",
    "version": 3
   },
   "file_extension": ".py",
   "mimetype": "text/x-python",
   "name": "python",
   "nbconvert_exporter": "python",
   "pygments_lexer": "ipython3",
   "version": "3.9.12"
  }
 },
 "nbformat": 4,
 "nbformat_minor": 5
}
