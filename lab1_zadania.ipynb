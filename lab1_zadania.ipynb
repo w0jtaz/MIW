{
 "cells": [
  {
   "cell_type": "code",
   "execution_count": 6,
   "metadata": {
    "collapsed": true
   },
   "outputs": [
    {
     "name": "stdout",
     "output_type": "stream",
     "text": [
      "[1 4 5 6 2 5 6 7 0]\n",
      "[1 4 5 6 2 5 6 7 0 8]\n",
      "[ 1  6  5  8  2  7  6  9  0 10]\n",
      "[10  0  9  6  7  2  8  5  6  1]\n"
     ]
    }
   ],
   "source": [
    "import numpy as np\n",
    "# Zadanie1\n",
    "\n",
    "vec1 = np.array([1,4,5,6,2,1,5,6,7,0])\n",
    "vec1 = np.delete(vec1, 5)\n",
    "print(vec1)\n",
    "vec1 = np.append(vec1, [8])\n",
    "print(vec1)\n",
    "vec1[1::2] += 2\n",
    "print(vec1)\n",
    "vec1 = vec1[::-1]\n",
    "print(vec1)"
   ]
  },
  {
   "cell_type": "code",
   "execution_count": 8,
   "outputs": [
    {
     "name": "stdout",
     "output_type": "stream",
     "text": [
      "[ 2  4  6  8 10]\n",
      "[2, 4, 6, 8, 10]\n"
     ]
    }
   ],
   "source": [
    "import numpy as np\n",
    "# Zadanie2\n",
    "\n",
    "vec1 = np.array([1, 2, 3, 4, 5])\n",
    "list1 = [1, 2, 3, 4, 5]\n",
    "\n",
    "scalar = 2\n",
    "\n",
    "# mnożenie wektora przez skalar w NumPy\n",
    "vec1_scalar = vec1 * scalar\n",
    "print(vec1_scalar)\n",
    "\n",
    "# mnożenie listy przez skalar w Pythonie\n",
    "list1_scalar = [x * scalar for x in list1]\n",
    "print(list1_scalar)\n",
    "\n",
    "# Jak widać, w przypadku wektora w NumPy mnożenie przez skalar działa na każdym elemencie oddzielnie, a wynik jest zwracany jako nowy wektor NumPy. W przypadku listy w Pythonie mnożenie przez skalar działa na całej liście jako jednej całości, a wynik jest zwracany jako nowa lista Pythona\n"
   ],
   "metadata": {
    "collapsed": false
   }
  },
  {
   "cell_type": "code",
   "execution_count": 15,
   "outputs": [
    {
     "name": "stdout",
     "output_type": "stream",
     "text": [
      "[[3 5 0]\n",
      " [2 6 1]\n",
      " [3 8 9]] \n",
      "\n",
      "[[-2  5  0]\n",
      " [ 2  6  1]\n",
      " [ 3  8  9]] \n",
      "\n",
      "[[-2  5  0]\n",
      " [ 2 44  1]\n",
      " [ 3  8  9]] \n",
      "\n",
      "[[-2  5  0]\n",
      " [ 2 44  1]\n",
      " [ 3  8  0]]\n"
     ]
    }
   ],
   "source": [
    "# Zadanie3\n",
    "import numpy as np\n",
    "\n",
    "matrix = np.array([3,5,0,2,6,1,3,8,9]).reshape(3,3)\n",
    "print(matrix,\"\\n\")\n",
    "matrix[0][0] = -2\n",
    "print(matrix,\"\\n\")\n",
    "matrix[1][1] = 44\n",
    "print(matrix,\"\\n\")\n",
    "matrix[-1][-1] = 0\n",
    "print(matrix)"
   ],
   "metadata": {
    "collapsed": false
   }
  },
  {
   "cell_type": "code",
   "execution_count": 18,
   "outputs": [
    {
     "name": "stdout",
     "output_type": "stream",
     "text": [
      "[[0 5 0]\n",
      " [2 0 1]\n",
      " [0 8 0]]\n"
     ]
    }
   ],
   "source": [
    "# Zadanie4\n",
    "import numpy as np\n",
    "\n",
    "matrix = np.array([3,5,0,2,6,1,3,8,9]).reshape(3,3)\n",
    "even_index= np.arange(0, matrix.size, 2)  # indeksy parzyste\n",
    "matrix.flat[even_index] = 0  # przypsuje wartość 0 do indeksów parzystych\n",
    "print(matrix)"
   ],
   "metadata": {
    "collapsed": false
   }
  },
  {
   "cell_type": "code",
   "execution_count": 38,
   "outputs": [
    {
     "name": "stdout",
     "output_type": "stream",
     "text": [
      "[[2 1 1]\n",
      " [1 3 6]\n",
      " [4 5 5]]\n",
      "    +\n",
      "[[1 0 5]\n",
      " [2 1 6]\n",
      " [0 3 0]] \n",
      "\n",
      "[[ 3.  1.  6.]\n",
      " [ 3.  4. 12.]\n",
      " [ 4.  8.  5.]]\n",
      "[[ 1  2  3  4]\n",
      " [ 5  6  7  8]\n",
      " [ 9 10 11 12]\n",
      " [13 14 15 16]]\n"
     ]
    }
   ],
   "source": [
    "# Zadanie5\n",
    "import numpy as np\n",
    "\n",
    "matrix1 = np.array([2,1,1,1,3,6,4,5,5]).reshape(3,3)\n",
    "matrix2 = np.array([1,0,5,2,1,6,0,3,0]).reshape(3,3)\n",
    "print(matrix1)\n",
    "print(\"    +\")\n",
    "print(matrix2,\"\\n\")\n",
    "\n",
    "sum = np.zeros((3, 3))  # macierz wynikowa wypełniona zerami\n",
    "\n",
    "for i in range(3):\n",
    "    for j in range(3):\n",
    "        sum[i][j] = matrix1[i][j] + matrix2[i][j]\n",
    "\n",
    "print(sum)"
   ],
   "metadata": {
    "collapsed": false
   }
  },
  {
   "cell_type": "code",
   "execution_count": 40,
   "outputs": [
    {
     "name": "stdout",
     "output_type": "stream",
     "text": [
      "tf.Tensor(\n",
      "[[ 1  2  3  4]\n",
      " [ 5  6  7  8]\n",
      " [ 9 10 11 12]\n",
      " [13 14 15 16]], shape=(4, 4), dtype=int32)\n"
     ]
    }
   ],
   "source": [
    "# Zadanie6\n",
    "import numpy as np\n",
    "import tensorflow as tf\n",
    "\n",
    "tensor = tf.constant(np.arange(1,17,1).reshape(4,4)) #macierz 4x4 o elementach od 1 do 16\n",
    "print(tensor)\n",
    "\n",
    "# Otrzymaliśmy tensor o wymiarach 4x4 który jest dwuwymiarową strukturą danych, która przechowuje 16 liczb całkowitych z zakresu od 1 do 16, uporządkowanych w 4 kolumnach i 4 wierszach. Tensor ten ma również typ danych int32, który jest domyślnym typem danych w TensorFlow dla liczb całkowitych."
   ],
   "metadata": {
    "collapsed": false
   }
  },
  {
   "cell_type": "code",
   "execution_count": null,
   "outputs": [],
   "source": [],
   "metadata": {
    "collapsed": false
   }
  }
 ],
 "metadata": {
  "kernelspec": {
   "display_name": "Python 3",
   "language": "python",
   "name": "python3"
  },
  "language_info": {
   "codemirror_mode": {
    "name": "ipython",
    "version": 2
   },
   "file_extension": ".py",
   "mimetype": "text/x-python",
   "name": "python",
   "nbconvert_exporter": "python",
   "pygments_lexer": "ipython2",
   "version": "2.7.6"
  }
 },
 "nbformat": 4,
 "nbformat_minor": 0
}
