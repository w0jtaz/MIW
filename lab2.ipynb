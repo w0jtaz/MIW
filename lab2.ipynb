{
 "cells": [
  {
   "cell_type": "code",
   "execution_count": 1,
   "id": "c3ebbc2a",
   "metadata": {},
   "outputs": [
    {
     "name": "stdout",
     "output_type": "stream",
     "text": [
      "Mnożenie za pomocą np.dot() \n",
      " [[ 4  4 16]\n",
      " [ 7 21 23]\n",
      " [14 20 50]]\n",
      "Mnożenie za pomocą np.matmul() \n",
      " [[ 4  4 16]\n",
      " [ 7 21 23]\n",
      " [14 20 50]]\n",
      "Mnożenie za pomocą operatora @ \n",
      " [[ 4  4 16]\n",
      " [ 7 21 23]\n",
      " [14 20 50]]\n"
     ]
    }
   ],
   "source": [
    "import numpy as np\n",
    "\n",
    "A = np.array([2,1,1,1,3,6,4,5,5]).reshape(3,3)\n",
    "B = np.array([1,0,5,2,1,6,0,3,0]).reshape(3,3)\n",
    "\n",
    "C = np.dot(A,B)\n",
    "print(\"Mnożenie za pomocą np.dot() \\n\", C)\n",
    "\n",
    "D = np.matmul(A,B)\n",
    "E = A@B\n",
    "\n",
    "print(\"Mnożenie za pomocą np.matmul() \\n\", D)\n",
    "print(\"Mnożenie za pomocą operatora @ \\n\", C)\n"
   ]
  },
  {
   "cell_type": "code",
   "execution_count": 6,
   "id": "63a8b6e3",
   "metadata": {},
   "outputs": [
    {
     "name": "stdout",
     "output_type": "stream",
     "text": [
      "Rank of A: 4\n"
     ]
    }
   ],
   "source": [
    "import numpy as np\n",
    "\n",
    "A = np.array([[6,1,1,4],\n",
    "             [4,-2,5,1],\n",
    "             [2,8,7,4],\n",
    "             [2,2,1,3]])\n",
    "\n",
    "#rank of a matrix\n",
    "print(\"Rank of A:\", np.linalg.matrix_rank(A)) #rząd"
   ]
  },
  {
   "cell_type": "code",
   "execution_count": 7,
   "id": "a1ff01e1",
   "metadata": {},
   "outputs": [
    {
     "name": "stdout",
     "output_type": "stream",
     "text": [
      "\n",
      "Determinant of A: -306.0\n"
     ]
    }
   ],
   "source": [
    "import numpy as np\n",
    "\n",
    "A = np.array([[6,1,1],\n",
    "              [4,-2,5],\n",
    "              [2,8,7]])\n",
    "\n",
    "#wyznacznik macierzy\n",
    "print(\"\\nDeterminant of A:\",np.linalg.det(A))"
   ]
  },
  {
   "cell_type": "code",
   "execution_count": 8,
   "id": "8852f5a6",
   "metadata": {},
   "outputs": [
    {
     "name": "stdout",
     "output_type": "stream",
     "text": [
      "[[ 4 -4 12]\n",
      " [ 3 -2  8]\n",
      " [ 2 -5 -7]\n",
      " [ 0  1  4]]\n"
     ]
    }
   ],
   "source": [
    "import numpy as np\n",
    "\n",
    "A = np.array([[4,3,2,0],\n",
    "              [-4,-2,-5,1],\n",
    "              [12,8,-7,4]])\n",
    "\n",
    "M = np.transpose(A)\n",
    "print(M)"
   ]
  },
  {
   "cell_type": "code",
   "execution_count": 9,
   "id": "178538de",
   "metadata": {},
   "outputs": [],
   "source": [
    "#ZADANIA"
   ]
  },
  {
   "cell_type": "code",
   "execution_count": 17,
   "id": "8626de8b",
   "metadata": {},
   "outputs": [
    {
     "name": "stdout",
     "output_type": "stream",
     "text": [
      "[[ 4.  4. 16.]\n",
      " [ 7. 21. 23.]\n",
      " [14. 20. 50.]]\n"
     ]
    }
   ],
   "source": [
    "import numpy as np\n",
    "\n",
    "def multiply_matrices(A, B): #zdefiniowanie funkcji przyjmującej macierze A i B jako argumenty\n",
    "    if A.shape[1] != B.shape[0]: #Warunek sprawdzający czy liczba kolumn macierzy \"A\" jest równa liczbie wierszy macierzy \"B\".\n",
    "        print(\"Nieprawidłowe wymiary macierzy\")\n",
    "        return None #Jeśli warunek z linii 4 nie jest spełniony, wypisuje komunikat o nieprawidłowych wymiarach macierzy i zwraca wartość \"None\".\n",
    "    else:\n",
    "        #W przeciwnym wypadku tworzona jest macierz wynikowa \"C\" o wymiarach równych liczbie wierszy macierzy \"A\" i liczbie #kolumn macierzy \"B\".\n",
    "        C = np.zeros((A.shape[0], B.shape[1]))\n",
    "\n",
    "        # mnożenie macierzy za pomocą pętli\n",
    "        #W kolejnych trzech pętlach \"for\" mnożone są elementy macierzy \"A\" i \"B\" zgodnie z zasadą mnożenia macierzy, a wynik zapisywany jest w odpowiednim miejscu macierzy wynikowej \"C\".\n",
    "        for i in range(A.shape[0]):\n",
    "            for j in range(B.shape[1]):\n",
    "                for k in range(A.shape[1]):\n",
    "                    C[i][j] += A[i][k] * B[k][j]\n",
    "        return C #Funkcja zwraca wynik w postaci macierzy \"C\".\n",
    "\n",
    "A = np.array([[2, 1, 1], [1, 3, 6], [4, 5, 5]])\n",
    "B = np.array([[1, 0, 5], [2, 1, 6], [0, 3, 0]])\n",
    "\n",
    "C = multiply_matrices(A, B) #mnożenie macierzy A i B za pomocą zdefiniowanej funkcji\n",
    "print(C) #wyświetlenie wyniku"
   ]
  },
  {
   "cell_type": "code",
   "execution_count": 15,
   "id": "459d6e57",
   "metadata": {},
   "outputs": [
    {
     "name": "stdout",
     "output_type": "stream",
     "text": [
      "-2\n"
     ]
    }
   ],
   "source": [
    "def determinant(matrix): #zdefiniowanie funkcji przyjmującej macierz jako argument\n",
    "    if len(matrix) != 3 or len(matrix[0]) != 3: #Warunek sprawdzający, czy wymiary macierzy są równe 3x3\n",
    "        print(\"Nieprawidłowy wymiar macierzy\")\n",
    "        return None #Jeśli warunek z linii 2 nie jest spełniony, wypisuje komunikat o nieprawidłowych wymiarach macierzy i zwraca wartość \"None\".\n",
    "    else: #W przeciwnym wypadku przypisuje elementy macierzy do zmiennych \"a\", \"b\", \"c\", \"d\", \"e\", \"f\", \"g\", \"h\" i \"i\".\n",
    "        a, b, c = matrix[0]\n",
    "        d, e, f = matrix[1]\n",
    "        g, h, i = matrix[2]\n",
    "\n",
    "        det = a*e*i + b*f*g + c*d*h - c*e*g - b*d*i - a*f*h #Oblicza wyznacznik macierzy \"det\" zgodnie ze wzorem Sarusa na wyznacznik macierzy 3x3\n",
    "\n",
    "        return det #Funkcja zwraca wyznacznik \"det\".\n",
    "\n",
    "matrix = [[1, 4, 5], [2, 1, 6], [0, 3, 2]] #utworzenie macierzy 3x3\n",
    "\n",
    "det = determinant(matrix) #wywołanie funkcji obliczającej wyznacznik na macierzy\n",
    "print(det) #wyświetlenie wyniku"
   ]
  },
  {
   "cell_type": "code",
   "execution_count": 3,
   "id": "d915e40b",
   "metadata": {},
   "outputs": [
    {
     "name": "stdout",
     "output_type": "stream",
     "text": [
      "[3, 2, 7]\n",
      "[2, 3, 7]\n",
      "[4, 5, 2]\n",
      "[1, 6, 1]\n",
      "[8, 0, 4]\n",
      "[0, 3, 5]\n"
     ]
    }
   ],
   "source": [
    "def transpose(matrix): #zdefiniowanie funkcji przyjmującej macierz jako argument\n",
    "    transposed = [] #utworzenie pustej listy, która będzie przechowywać wynikowe transponowane elementy macierzy\n",
    "    for i in range(len(matrix[0])): #pętla \"for\" iterująca po indeksach kolumn macierzy\n",
    "        row = [] #utworzenie pustej listy \"row\", która będzie przechowywać wiersz transponowanej macierzy\n",
    "        for j in range(len(matrix)): #pętla \"for\" iterująca po indeksach wierszy macierzy\n",
    "            row.append(matrix[j][i]) #Dodanie elementu o indeksie (j, i) do listy \"row\"\n",
    "        transposed.append(row) #dodanie listy \"row\" do listy \"transposed\"\n",
    "    \n",
    "    for row in transposed: #pętla \"for\" iterująca po wierszach transponowanej macierzy\n",
    "        print(row) #wyświetlenie każdego wiersza macierzy\n",
    "\n",
    "\n",
    "\n",
    "matrix = [[3,2,4,1,8,0], [2,3,5,6,0,3],[7,7,2,1,4,5]] #inicjacja macierzy\n",
    "transpose(matrix) #wywołanie funkcji transponującej macierz\n"
   ]
  },
  {
   "cell_type": "code",
   "execution_count": null,
   "outputs": [],
   "source": [],
   "metadata": {
    "collapsed": false
   }
  }
 ],
 "metadata": {
  "kernelspec": {
   "display_name": "Python 3 (ipykernel)",
   "language": "python",
   "name": "python3"
  },
  "language_info": {
   "codemirror_mode": {
    "name": "ipython",
    "version": 3
   },
   "file_extension": ".py",
   "mimetype": "text/x-python",
   "name": "python",
   "nbconvert_exporter": "python",
   "pygments_lexer": "ipython3",
   "version": "3.9.12"
  }
 },
 "nbformat": 4,
 "nbformat_minor": 5
}
