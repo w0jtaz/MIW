{
 "cells": [
  {
   "cell_type": "code",
   "execution_count": 1,
   "id": "c3f834e0",
   "metadata": {},
   "outputs": [
    {
     "name": "stdout",
     "output_type": "stream",
     "text": [
      "3\n",
      "2\n",
      "4\n",
      "2\n"
     ]
    }
   ],
   "source": [
    "import numpy as np\n",
    "\n",
    "def matrix_rank(matrix):\n",
    "    # pobranie liczby wierszy i kolumn macierzy\n",
    "    n, m = matrix.shape\n",
    "\n",
    "    rank= min(n, m)\n",
    "\n",
    "    # eliminacja Gaussa\n",
    "    for i in range(rank):\n",
    "        # sprawdzanie czy element diagonalny jest równy zero\n",
    "        if matrix[i, i] == 0:\n",
    "            # zamiana wierszy z niezerową wartością w i-tej kolumnie z bierzącym\n",
    "            for j in range(i+1, n):\n",
    "                if matrix[j, i] != 0:\n",
    "                    matrix[[i, j]] = matrix[[j, i]]\n",
    "                    break\n",
    "            else:\n",
    "                continue\n",
    "        # zamiana wartości w wierszach, aby wszystkie elementy poniżej elementu diagonalnego były zerami\n",
    "        for j in range(i+1, n):\n",
    "            if matrix[j, i] != 0:\n",
    "                matrix[j, i:] = matrix[j, i:] - matrix[i, i:] * (matrix[j, i] / matrix[i, i])\n",
    "\n",
    "    # liczba wierszy o niezerowych wartościach\n",
    "    rank = len(np.flatnonzero(np.any(matrix, axis=1)))\n",
    "\n",
    "    return rank\n",
    "\n",
    "\n",
    "\n",
    "matrix_3x3_1 = np.array([[1, 1, 5], [2, 0, 6], [8, 3, 2]])\n",
    "matrix_3x3_2 = np.array([[3, -1, 1], [5, 1, 4], [-1, 3, 2]])\n",
    "matrix_4x4_1 = np.array([[1, 3, -2, 4], [1, -1, 3, 5], [0, 1, 4, -2], [10, -2, 5, 1]])\n",
    "matrix_4x4_2 = np.array([[2, 8, 3, -4], [1, 4, 1, -2], [5, 20, 0, -10], [-3, -12, -2, 6]])\n",
    "\n",
    "\n",
    "print(matrix_rank(matrix_3x3_1))\n",
    "print(matrix_rank(matrix_3x3_2))\n",
    "print(matrix_rank(matrix_4x4_1))\n",
    "print(matrix_rank(matrix_4x4_2))\n",
    "\n",
    "#PS. Nie mam sprawdzonego Zadania nr. 4 możliwe że wystąpił jakiś błąd na Teams\n"
   ]
  }
 ],
 "metadata": {
  "kernelspec": {
   "display_name": "Python 3 (ipykernel)",
   "language": "python",
   "name": "python3"
  },
  "language_info": {
   "codemirror_mode": {
    "name": "ipython",
    "version": 3
   },
   "file_extension": ".py",
   "mimetype": "text/x-python",
   "name": "python",
   "nbconvert_exporter": "python",
   "pygments_lexer": "ipython3",
   "version": "3.9.12"
  }
 },
 "nbformat": 4,
 "nbformat_minor": 5
}
