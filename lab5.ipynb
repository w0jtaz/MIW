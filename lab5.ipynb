{
 "cells": [
  {
   "cell_type": "code",
   "execution_count": 6,
   "id": "ee710385",
   "metadata": {},
   "outputs": [
    {
     "name": "stdout",
     "output_type": "stream",
     "text": [
      "[0.013333333333333364, 0.13666666666666666, 0.03333333333333334, -0.016666666666666663, -0.09999999999999999]\n",
      "[-0.2, 0.2, 0.0, 0.0, 0.0]\n",
      "[0.4666666666666667, -0.4666666666666668, -0.3333333333333335, -1.1102230246251565e-16, 0.33333333333333337]\n",
      "[-0.11999999999999994, 0.14500000000000005, 0.45000000000000007, -0.05833333333333329, -0.18333333333333332]\n",
      "[-0.5333333333333333, 0.2833333333333334, 0.16666666666666674, 0.25000000000000006, -0.16666666666666669]\n"
     ]
    }
   ],
   "source": [
    "def create_identity_matrix(n):\n",
    "    #Funkcja tworząca macierz jednostkową o wymiarze n x n\n",
    "    matrix = []\n",
    "    for i in range(n):\n",
    "        row = [0] * n\n",
    "        row[i] = 1\n",
    "        matrix.append(row)\n",
    "    return matrix\n",
    "\n",
    "\n",
    "def matrix_multiplication(m1, m2):\n",
    "    #Funkcja realizująca mnożenie macierzy\n",
    "    result = []\n",
    "    for i in range(len(m1)):\n",
    "        row = []\n",
    "        for j in range(len(m2[0])):\n",
    "            s = 0\n",
    "            for k in range(len(m2)):\n",
    "                s += m1[i][k] * m2[k][j]\n",
    "            row.append(s)\n",
    "        result.append(row)\n",
    "    return result\n",
    "\n",
    "\n",
    "def copy_matrix(m):\n",
    "    #Funkcja tworząca kopię macierzy\n",
    "    copy = []\n",
    "    for i in range(len(m)):\n",
    "        row = []\n",
    "        for j in range(len(m[0])):\n",
    "            row.append(m[i][j])\n",
    "        copy.append(row)\n",
    "    return copy\n",
    "\n",
    "\n",
    "def odwroc(matrix):\n",
    "    #Funkcja realizująca algorytm Gaussa-Jordana do odwracania macierzy\n",
    "    n = len(matrix)\n",
    "    jednostkowa = create_identity_matrix(n)\n",
    "    matrix_copy = copy_matrix(matrix)\n",
    "    jednostkowa_copy = copy_matrix(jednostkowa)\n",
    "\n",
    "    # przeliczanie wartości po przekątnej macierzy głównej\n",
    "    for i in range(n):\n",
    "        diagonal_value = matrix_copy[i][i]\n",
    "        if diagonal_value == 0:\n",
    "            return None  # macierz jest osobliwa i nie ma odwrotności\n",
    "        for j in range(n):\n",
    "            matrix_copy[i][j] /= diagonal_value\n",
    "            jednostkowa_copy[i][j] /= diagonal_value\n",
    "\n",
    "        # przeliczanie pozostałych wartości\n",
    "        for k in range(n):\n",
    "            if k == i:\n",
    "                continue\n",
    "            factor = matrix_copy[k][i]\n",
    "            for j in range(n):\n",
    "                matrix_copy[k][j] -= factor * matrix_copy[i][j]\n",
    "                jednostkowa_copy[k][j] -= factor * jednostkowa_copy[i][j]\n",
    "\n",
    "    return jednostkowa_copy\n",
    "\n",
    "\n",
    "matrix = [[8, 1, 4, 2, 1], [8, 6, 4, 2, 1], [1, 2, 3, 4, 1], [8, 0, 6, 2, 5], [1, 9, 6, 4, 1]]\n",
    "macierz_odwrotna = odwroc(matrix)\n",
    "for row in macierz_odwrotna:\n",
    "    print(row)\n"
   ]
  },
  {
   "cell_type": "code",
   "execution_count": null,
   "id": "3c44d53f",
   "metadata": {
    "pycharm": {
     "is_executing": true
    }
   },
   "outputs": [],
   "source": []
  }
 ],
 "metadata": {
  "kernelspec": {
   "display_name": "Python 3 (ipykernel)",
   "language": "python",
   "name": "python3"
  },
  "language_info": {
   "codemirror_mode": {
    "name": "ipython",
    "version": 3
   },
   "file_extension": ".py",
   "mimetype": "text/x-python",
   "name": "python",
   "nbconvert_exporter": "python",
   "pygments_lexer": "ipython3",
   "version": "3.9.12"
  }
 },
 "nbformat": 4,
 "nbformat_minor": 5
}
