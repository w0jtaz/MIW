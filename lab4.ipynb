{
 "cells": [
  {
   "cell_type": "code",
   "execution_count": 18,
   "metadata": {
    "collapsed": true
   },
   "outputs": [
    {
     "name": "stdout",
     "output_type": "stream",
     "text": [
      "[6.0, -5.0]\n",
      "[-1.0, 1.0, -2.0]\n"
     ]
    }
   ],
   "source": [
    "def solve_eq(eq):\n",
    "    n = len(eq)  # obliczenie liczby równań\n",
    "    result = [0] * n  # utworzenie listy zmiennych, zainicjowanych wartościami 0\n",
    "\n",
    "    if n == 2:  # jeśli mamy 2 niewiadome\n",
    "        # obliczenie wyznaczników macierzy i rozwiązanie układu równań\n",
    "        det_A = float(eq[0][0]) * float(eq[1][1]) - float(eq[0][1]) * float(eq[1][0])\n",
    "        det_x = float(eq[0][2]) * float(eq[1][1]) - float(eq[0][1]) * float(eq[1][2])\n",
    "        det_y = float(eq[0][0]) * float(eq[1][2]) - float(eq[0][2]) * float(eq[1][0])\n",
    "        result[0] = det_x / det_A  # obliczenie wartości x\n",
    "        result[1] = det_y / det_A  # obliczenie wartości y\n",
    "\n",
    "        return result\n",
    "\n",
    "    if n == 3: #jeśli mamy 3 niewiadome\n",
    "         # obliczenie wyznaczników macierzy i rozwiązanie układu równań\n",
    "        det_A = (float(eq[0][0]) * float(eq[1][1]) * float(eq[2][2]) +\n",
    "                 float(eq[0][1]) * float(eq[1][2]) * float(eq[2][0]) +\n",
    "                 float(eq[0][2]) * float(eq[1][0]) * float(eq[2][1]) -\n",
    "                 float(eq[0][2]) * float(eq[1][1]) * float(eq[2][0]) -\n",
    "                 float(eq[1][2]) * float(eq[2][1]) * float(eq[0][0]) -\n",
    "                 float(eq[2][2]) * float(eq[0][1]) * float(eq[1][0]))\n",
    "        det_x = (float(eq[0][3]) * float(eq[1][1]) * float(eq[2][2]) +\n",
    "                 float(eq[0][1]) * float(eq[1][2]) * float(eq[2][3]) +\n",
    "                 float(eq[0][2]) * float(eq[1][3]) * float(eq[2][1]) -\n",
    "                 float(eq[0][2]) * float(eq[1][1]) * float(eq[2][3]) -\n",
    "                 float(eq[1][2]) * float(eq[2][1]) * float(eq[0][3]) -\n",
    "                 float(eq[2][2]) * float(eq[0][1]) * float(eq[1][3]))\n",
    "        det_y = (float(eq[0][0]) * float(eq[1][3]) * float(eq[2][2]) +\n",
    "                 float(eq[0][3]) * float(eq[1][2]) * float(eq[2][0]) +\n",
    "                 float(eq[0][2]) * float(eq[1][0]) * float(eq[2][3]) -\n",
    "                 float(eq[0][2]) * float(eq[1][3]) * float(eq[2][0]) -\n",
    "                 float(eq[1][2]) * float(eq[2][3]) * float(eq[0][0]) -\n",
    "                 float(eq[2][2]) * float(eq[0][3]) * float(eq[1][0]))\n",
    "        det_z = (float(eq[0][0]) * float(eq[1][1]) * float(eq[2][3]) +\n",
    "                 float(eq[0][1]) * float(eq[1][3]) * float(eq[2][0]) +\n",
    "                 float(eq[0][3]) * float(eq[1][0]) * float(eq[2][1]) -\n",
    "                 float(eq[0][3]) * float(eq[1][1]) * float(eq[2][0]) -\n",
    "                 float(eq[1][3]) * float(eq[2][1]) * float(eq[0][0]) -\n",
    "                 float(eq[2][3]) * float(eq[0][1]) * float(eq[1][0]))\n",
    "\n",
    "        #obliczamy końcowe wyniki dzieląc wyznacznik danej macierzy wynikowej przez wyznacznik macierzy początkowej\n",
    "        result[0] = det_x / det_A\n",
    "        result[1] = det_y / det_A\n",
    "        result[2] = det_z / det_A\n",
    "\n",
    "        return result\n",
    "\n",
    "\n",
    "xy = [\n",
    "    ['3', '5', '-7'],\n",
    "    ['1', '4', '-14']\n",
    "]\n",
    "print(solve_eq(xy))\n",
    "\n",
    "xyz = [\n",
    "    ['1', '2', '3', '-5'],\n",
    "    ['3', '1', '-3', '4'],\n",
    "    ['-3', '4', '7', '-7']\n",
    "]\n",
    "print(solve_eq(xyz))\n"
   ]
  },
  {
   "cell_type": "code",
   "execution_count": 30,
   "outputs": [],
   "source": [],
   "metadata": {
    "collapsed": false
   }
  },
  {
   "cell_type": "code",
   "execution_count": 7,
   "outputs": [],
   "source": [],
   "metadata": {
    "collapsed": false
   }
  }
 ],
 "metadata": {
  "kernelspec": {
   "display_name": "Python 3",
   "language": "python",
   "name": "python3"
  },
  "language_info": {
   "codemirror_mode": {
    "name": "ipython",
    "version": 2
   },
   "file_extension": ".py",
   "mimetype": "text/x-python",
   "name": "python",
   "nbconvert_exporter": "python",
   "pygments_lexer": "ipython2",
   "version": "2.7.6"
  }
 },
 "nbformat": 4,
 "nbformat_minor": 0
}
