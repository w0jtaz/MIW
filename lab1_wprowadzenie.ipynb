{
  "cells": [
    {
      "cell_type": "code",
      "source": [
        "import numpy as np\n",
        "my_vector1 = np.array([1,2,3,4,5])\n",
        "print(\"My vector: \", my_vector1)"
      ],
      "outputs": [
        {
          "output_type": "stream",
          "name": "stdout",
          "text": "My vector:  [1 2 3 4 5]\n"
        }
      ],
      "execution_count": 1,
      "metadata": {},
      "id": "b1474f4e-52f2-4073-8131-1f2019d5641c"
    },
    {
      "cell_type": "code",
      "source": [
        "import numpy as np\n",
        "my_vector2 = np.arange(5)\n",
        "my_vector3 = np.arange(0, 10, 2)\n",
        "print(\"My vector2: \", my_vector2)\n",
        "print(\"My vector3: \", my_vector3)"
      ],
      "outputs": [
        {
          "output_type": "stream",
          "name": "stdout",
          "text": "My vector2:  [0 1 2 3 4]\nMy vector3:  [0 2 4 6 8]\n"
        }
      ],
      "execution_count": 2,
      "metadata": {},
      "id": "fd3b920d-194c-4aad-bd9c-45fdcd4568e6"
    },
    {
      "cell_type": "code",
      "source": [
        "import numpy as np\n",
        "my_vector4 = np.linspace(1, np.pi, 4)\n",
        "print(\"My vector4: \", my_vector4)\n"
      ],
      "outputs": [
        {
          "output_type": "stream",
          "name": "stdout",
          "text": "My vector4:  [1.         1.71386422 2.42772844 3.14159265]\n"
        }
      ],
      "execution_count": 4,
      "metadata": {},
      "id": "e2a4e336-a178-4ddf-8e56-71c4cfcb74aa"
    },
    {
      "cell_type": "code",
      "source": [
        "import numpy as np\n",
        "my_vector4 = np.arange(5)\n",
        "new_vector = np.append(my_vector4, [1000])\n",
        "print(\"New vector with 1000 at the end: \", new_vector)"
      ],
      "outputs": [
        {
          "output_type": "stream",
          "name": "stdout",
          "text": "New vector with 1000 at the end:  [   0    1    2    3    4 1000]\n"
        }
      ],
      "execution_count": 5,
      "metadata": {},
      "id": "4a6c2554-a554-452a-98d9-5701a4086c5d"
    },
    {
      "cell_type": "code",
      "source": [
        "import numpy as np\n",
        "my_vector4 = np.arange(5)\n",
        "new_vector_insert = np.insert(my_vector4, 1, 8888)\n",
        "print(\"Vector with value 8888 at the index 1: \", new_vector_insert)"
      ],
      "outputs": [
        {
          "output_type": "stream",
          "name": "stdout",
          "text": "Vector with value 8888 at the index 1:  [   0 8888    1    2    3    4]\n"
        }
      ],
      "execution_count": 6,
      "metadata": {},
      "id": "0bd1369c-bf84-48ac-9048-552052e844be"
    },
    {
      "cell_type": "code",
      "source": [
        "import numpy as np\n",
        "arr = np.array([1,2,3,4,5])\n",
        "index = 0\n",
        "arr2 = np.delete(arr, index)\n",
        "print(\"Based array: \", arr, \"Array with removed value[0]: \", arr2)"
      ],
      "outputs": [
        {
          "output_type": "stream",
          "name": "stdout",
          "text": "Based array:  [1 2 3 4 5] Array with removed value[0]:  [2 3 4 5]\n"
        }
      ],
      "execution_count": 8,
      "metadata": {},
      "id": "5d5bbe70-e906-456a-a1e2-4a8455ce7cac"
    },
    {
      "cell_type": "code",
      "source": [
        "import numpy as np\n",
        "vec1 = np.array([1,2,3,4,5])\n",
        "vec2 = np.array([1,2,3,4,5])\n",
        "adding1 = np.add(vec1, vec2)\n",
        "adding2 = vec1 + vec2\n",
        "print(\"After adding using function: \", adding1)\n",
        "print(\"After adding without function: \", adding2)"
      ],
      "outputs": [
        {
          "output_type": "stream",
          "name": "stdout",
          "text": "After adding using function:  [ 2  4  6  8 10]\nAfter adding without function:  [ 2  4  6  8 10]\n"
        }
      ],
      "execution_count": 9,
      "metadata": {},
      "id": "354faa8f-5d32-47ef-bb16-52c6051c256b"
    },
    {
      "cell_type": "code",
      "source": [
        "import numpy as np\n",
        "vec1 = np.array([1,2,3,4,5])\n",
        "vec2 = np.array([5,4,3,2,1])\n",
        "subtract1 = np.subtract(vec1, vec2)\n",
        "subtract2 = vec1 - vec2\n",
        "print(\"After subtracting using function: \", subtract1)\n",
        "print(\"After subtracting without function: \", subtract2)"
      ],
      "outputs": [
        {
          "output_type": "stream",
          "name": "stdout",
          "text": "After subtracting using function:  [-4 -2  0  2  4]\nAfter subtracting without function:  [-4 -2  0  2  4]\n"
        }
      ],
      "execution_count": 14,
      "metadata": {},
      "id": "c1ea2b90-4a4a-42d8-88bf-a4e9771838f0"
    },
    {
      "cell_type": "code",
      "source": [
        "import numpy as np\n",
        "vec1 = np.array([1,2,3,4,5])\n",
        "scalar = 3\n",
        "result = vec1 * scalar\n",
        "print(result)"
      ],
      "outputs": [
        {
          "output_type": "stream",
          "name": "stdout",
          "text": "[ 3  6  9 12 15]\n"
        }
      ],
      "execution_count": 15,
      "metadata": {},
      "id": "9d49f311-8530-46e2-8bd7-120891be03e9"
    },
    {
      "cell_type": "code",
      "source": [
        "import numpy as np\n",
        "vec1 = np.array([1,2,3,4,5])\n",
        "vec2 = np.array([0,2,3,0,2])\n",
        "multiply1 = np.multiply(vec1, vec2)\n",
        "multiply2 = vec1 * vec2\n",
        "print(\"After multipled using function: \", multiply1)\n",
        "print(\"After multipled without function: \", multiply2)"
      ],
      "outputs": [
        {
          "output_type": "stream",
          "name": "stdout",
          "text": "After multipled using function:  [ 0  4  9  0 10]\nAfter multipled without function:  [ 0  4  9  0 10]\n"
        }
      ],
      "execution_count": 16,
      "metadata": {},
      "id": "425f0761-94fa-4cba-b72a-313db61d5785"
    },
    {
      "cell_type": "code",
      "source": [
        "import numpy as np\n",
        "vec1 = np.array([1,2,3,4,15])\n",
        "vec2 = np.array([1,2,3,2,5])\n",
        "divide1 = np.divide(vec1, vec2)\n",
        "divide2 = vec1 / vec2\n",
        "print(\"After divide using function: \", divide1)\n",
        "print(\"After divide without function: \", divide2)"
      ],
      "outputs": [
        {
          "output_type": "stream",
          "name": "stdout",
          "text": "After divide using function:  [1. 1. 1. 2. 3.]\nAfter divide without function:  [1. 1. 1. 2. 3.]\n"
        }
      ],
      "execution_count": 18,
      "metadata": {},
      "id": "20bfb94f-c387-416b-a405-555539882efc"
    },
    {
      "cell_type": "code",
      "source": [
        "import numpy as np\n",
        "matrix1 = np.array([[1,2,3,4,15], [2,4,6,8,10]])\n",
        "print(matrix1)"
      ],
      "outputs": [
        {
          "output_type": "stream",
          "name": "stdout",
          "text": "[[ 1  2  3  4 15]\n [ 2  4  6  8 10]]\n"
        }
      ],
      "execution_count": 21,
      "metadata": {},
      "id": "386f9e9a-c6e5-415b-93e0-d619598a8102"
    },
    {
      "cell_type": "code",
      "source": [
        "import numpy as np\n",
        "x = np.array([1,2,3,4,5,6,7,8,9]).reshape(3,3)\n",
        "print(x)"
      ],
      "outputs": [
        {
          "output_type": "stream",
          "name": "stdout",
          "text": "[[1 2 3]\n [4 5 6]\n [7 8 9]]\n"
        }
      ],
      "execution_count": 27,
      "metadata": {},
      "id": "90b54ec4-0cfc-4582-9c7e-00dbe2328c25"
    },
    {
      "cell_type": "code",
      "source": [
        "import numpy as np\n",
        "m = np.array([1,2,3,4,5,6,7,8,9]).reshape(3,3)\n",
        "x = np.matrix(m)\n",
        "print(x)"
      ],
      "outputs": [
        {
          "output_type": "stream",
          "name": "stdout",
          "text": "[[1 2 3]\n [4 5 6]\n [7 8 9]]\n"
        }
      ],
      "execution_count": 28,
      "metadata": {},
      "id": "d3687e6c-3ef0-4a69-afaa-edaf57063139"
    },
    {
      "cell_type": "code",
      "source": [
        "import numpy as np\n",
        "x = np.array([1,2,3,4,5,6,7,8,9]).reshape(3,3)\n",
        "first_value = x[0][0]\n",
        "middle_value = x[1][1]\n",
        "last_value = x[-1][-1]\n",
        "print(\"first element in matrix\", first_value)\n",
        "print(\"middle element in matrix\", middle_value)\n",
        "print(\"last element in matrix\", last_value)"
      ],
      "outputs": [
        {
          "output_type": "stream",
          "name": "stdout",
          "text": "first element in matrix 1\nmiddle element in matrix 5\nlast element in matrix 9\n"
        }
      ],
      "execution_count": 34,
      "metadata": {},
      "id": "9b9f7c42-9705-4aaf-9759-0ed00c05c347"
    },
    {
      "cell_type": "code",
      "source": [
        "import numpy as np\n",
        "a = np.diag((1,2,3,4))\n",
        "print(a)"
      ],
      "outputs": [
        {
          "output_type": "stream",
          "name": "stdout",
          "text": "[[1 0 0 0]\n [0 2 0 0]\n [0 0 3 0]\n [0 0 0 4]]\n"
        }
      ],
      "execution_count": 35,
      "metadata": {},
      "id": "68449ba7-10a8-446a-8673-11daa10070e6"
    },
    {
      "cell_type": "code",
      "source": [
        "import numpy as np\n",
        "zeros = np.zeros((3,3))\n",
        "print(zeros)\n",
        "ones = np.ones((3,3))\n",
        "print(ones)"
      ],
      "outputs": [
        {
          "output_type": "stream",
          "name": "stdout",
          "text": "[[0. 0. 0.]\n [0. 0. 0.]\n [0. 0. 0.]]\n[[1. 1. 1.]\n [1. 1. 1.]\n [1. 1. 1.]]\n"
        }
      ],
      "execution_count": 36,
      "metadata": {},
      "id": "c9851d03-2aa7-4d30-a3e9-ba4bf534c7fb"
    },
    {
      "cell_type": "code",
      "source": [
        "x = zeros.copy()\n",
        "x[0][2] = 6\n",
        "print(x)"
      ],
      "outputs": [
        {
          "output_type": "stream",
          "name": "stdout",
          "text": "[[0. 0. 6.]\n [0. 0. 0.]\n [0. 0. 0.]]\n"
        }
      ],
      "execution_count": 47,
      "metadata": {},
      "id": "0c659d49-9f34-4f05-8d7d-0e8492940b1e"
    },
    {
      "cell_type": "code",
      "source": [
        "%pip install tensorflow\n",
        "import tensorflow as tf\n",
        "t1 = tf.constant([1,2,3])\n",
        "t2 = tf.constant([[1.1, 2.2, 3.3], [4, 5, 6]])\n",
        "t3 = tf.constant([[1, 2, 3], [4, 5, 6], [7, 8, 9]])\n",
        "t4 = tf.constant([\"String_one\", \"String_two\", \"String_three\"])\n",
        "print(t1)\n",
        "print(\"\\n\")\n",
        "print(t2)\n",
        "print(\"\\n\")\n",
        "print(t3)\n",
        "print(\"\\n\")\n",
        "print(t4)"
      ],
      "outputs": [
        {
          "output_type": "stream",
          "name": "stdout",
          "text": "Requirement already satisfied: tensorflow in c:\\users\\local\\anaconda3\\lib\\site-packages (2.11.0)\nRequirement already satisfied: tensorflow-intel==2.11.0 in c:\\users\\local\\anaconda3\\lib\\site-packages (from tensorflow) (2.11.0)\nRequirement already satisfied: tensorboard<2.12,>=2.11 in c:\\users\\local\\anaconda3\\lib\\site-packages (from tensorflow-intel==2.11.0->tensorflow) (2.11.2)\nRequirement already satisfied: tensorflow-io-gcs-filesystem>=0.23.1 in c:\\users\\local\\anaconda3\\lib\\site-packages (from tensorflow-intel==2.11.0->tensorflow) (0.31.0)\nRequirement already satisfied: keras<2.12,>=2.11.0 in c:\\users\\local\\anaconda3\\lib\\site-packages (from tensorflow-intel==2.11.0->tensorflow) (2.11.0)\nRequirement already satisfied: packaging in c:\\users\\local\\anaconda3\\lib\\site-packages (from tensorflow-intel==2.11.0->tensorflow) (21.3)\nRequirement already satisfied: tensorflow-estimator<2.12,>=2.11.0 in c:\\users\\local\\anaconda3\\lib\\site-packages (from tensorflow-intel==2.11.0->tensorflow) (2.11.0)\nRequirement already satisfied: setuptools in c:\\users\\local\\anaconda3\\lib\\site-packages (from tensorflow-intel==2.11.0->tensorflow) (61.2.0)\nRequirement already satisfied: libclang>=13.0.0 in c:\\users\\local\\anaconda3\\lib\\site-packages (from tensorflow-intel==2.11.0->tensorflow) (15.0.6.1)\nRequirement already satisfied: h5py>=2.9.0 in c:\\users\\local\\anaconda3\\lib\\site-packages (from tensorflow-intel==2.11.0->tensorflow) (3.6.0)\nRequirement already satisfied: google-pasta>=0.1.1 in c:\\users\\local\\anaconda3\\lib\\site-packages (from tensorflow-intel==2.11.0->tensorflow) (0.2.0)\nRequirement already satisfied: gast<=0.4.0,>=0.2.1 in c:\\users\\local\\anaconda3\\lib\\site-packages (from tensorflow-intel==2.11.0->tensorflow) (0.4.0)\nRequirement already satisfied: numpy>=1.20 in c:\\users\\local\\anaconda3\\lib\\site-packages (from tensorflow-intel==2.11.0->tensorflow) (1.21.5)\nRequirement already satisfied: astunparse>=1.6.0 in c:\\users\\local\\anaconda3\\lib\\site-packages (from tensorflow-intel==2.11.0->tensorflow) (1.6.3)\nRequirement already satisfied: grpcio<2.0,>=1.24.3 in c:\\users\\local\\anaconda3\\lib\\site-packages (from tensorflow-intel==2.11.0->tensorflow) (1.42.0)\nRequirement already satisfied: absl-py>=1.0.0 in c:\\users\\local\\anaconda3\\lib\\site-packages (from tensorflow-intel==2.11.0->tensorflow) (1.4.0)\nRequirement already satisfied: wrapt>=1.11.0 in c:\\users\\local\\anaconda3\\lib\\site-packages (from tensorflow-intel==2.11.0->tensorflow) (1.12.1)\nRequirement already satisfied: six>=1.12.0 in c:\\users\\local\\anaconda3\\lib\\site-packages (from tensorflow-intel==2.11.0->tensorflow) (1.16.0)\nRequirement already satisfied: protobuf<3.20,>=3.9.2 in c:\\users\\local\\anaconda3\\lib\\site-packages (from tensorflow-intel==2.11.0->tensorflow) (3.19.1)\nRequirement already satisfied: typing-extensions>=3.6.6 in c:\\users\\local\\anaconda3\\lib\\site-packages (from tensorflow-intel==2.11.0->tensorflow) (4.1.1)\nRequirement already satisfied: termcolor>=1.1.0 in c:\\users\\local\\anaconda3\\lib\\site-packages (from tensorflow-intel==2.11.0->tensorflow) (2.2.0)\nRequirement already satisfied: flatbuffers>=2.0 in c:\\users\\local\\anaconda3\\lib\\site-packages (from tensorflow-intel==2.11.0->tensorflow) (23.1.21)\nRequirement already satisfied: opt-einsum>=2.3.2 in c:\\users\\local\\anaconda3\\lib\\site-packages (from tensorflow-intel==2.11.0->tensorflow) (3.3.0)\nRequirement already satisfied: wheel<1.0,>=0.23.0 in c:\\users\\local\\anaconda3\\lib\\site-packages (from astunparse>=1.6.0->tensorflow-intel==2.11.0->tensorflow) (0.37.1)\nRequirement already satisfied: requests<3,>=2.21.0 in c:\\users\\local\\anaconda3\\lib\\site-packages (from tensorboard<2.12,>=2.11->tensorflow-intel==2.11.0->tensorflow) (2.27.1)\nRequirement already satisfied: werkzeug>=1.0.1 in c:\\users\\local\\anaconda3\\lib\\site-packages (from tensorboard<2.12,>=2.11->tensorflow-intel==2.11.0->tensorflow) (2.0.3)\nRequirement already satisfied: google-auth-oauthlib<0.5,>=0.4.1 in c:\\users\\local\\anaconda3\\lib\\site-packages (from tensorboard<2.12,>=2.11->tensorflow-intel==2.11.0->tensorflow) (0.4.6)\nRequirement already satisfied: google-auth<3,>=1.6.3 in c:\\users\\local\\anaconda3\\lib\\site-packages (from tensorboard<2.12,>=2.11->tensorflow-intel==2.11.0->tensorflow) (1.33.0)\nRequirement already satisfied: tensorboard-data-server<0.7.0,>=0.6.0 in c:\\users\\local\\anaconda3\\lib\\site-packages (from tensorboard<2.12,>=2.11->tensorflow-intel==2.11.0->tensorflow) (0.6.1)\nRequirement already satisfied: markdown>=2.6.8 in c:\\users\\local\\anaconda3\\lib\\site-packages (from tensorboard<2.12,>=2.11->tensorflow-intel==2.11.0->tensorflow) (3.3.4)\nRequirement already satisfied: tensorboard-plugin-wit>=1.6.0 in c:\\users\\local\\anaconda3\\lib\\site-packages (from tensorboard<2.12,>=2.11->tensorflow-intel==2.11.0->tensorflow) (1.8.1)\nRequirement already satisfied: rsa<5,>=3.1.4 in c:\\users\\local\\anaconda3\\lib\\site-packages (from google-auth<3,>=1.6.3->tensorboard<2.12,>=2.11->tensorflow-intel==2.11.0->tensorflow) (4.7.2)\nRequirement already satisfied: pyasn1-modules>=0.2.1 in c:\\users\\local\\anaconda3\\lib\\site-packages (from google-auth<3,>=1.6.3->tensorboard<2.12,>=2.11->tensorflow-intel==2.11.0->tensorflow) (0.2.8)\nRequirement already satisfied: cachetools<5.0,>=2.0.0 in c:\\users\\local\\anaconda3\\lib\\site-packages (from google-auth<3,>=1.6.3->tensorboard<2.12,>=2.11->tensorflow-intel==2.11.0->tensorflow) (4.2.2)\nRequirement already satisfied: requests-oauthlib>=0.7.0 in c:\\users\\local\\anaconda3\\lib\\site-packages (from google-auth-oauthlib<0.5,>=0.4.1->tensorboard<2.12,>=2.11->tensorflow-intel==2.11.0->tensorflow) (1.3.1)\nRequirement already satisfied: pyasn1<0.5.0,>=0.4.6 in c:\\users\\local\\anaconda3\\lib\\site-packages (from pyasn1-modules>=0.2.1->google-auth<3,>=1.6.3->tensorboard<2.12,>=2.11->tensorflow-intel==2.11.0->tensorflow) (0.4.8)\nRequirement already satisfied: idna<4,>=2.5 in c:\\users\\local\\anaconda3\\lib\\site-packages (from requests<3,>=2.21.0->tensorboard<2.12,>=2.11->tensorflow-intel==2.11.0->tensorflow) (3.3)\nRequirement already satisfied: charset-normalizer~=2.0.0 in c:\\users\\local\\anaconda3\\lib\\site-packages (from requests<3,>=2.21.0->tensorboard<2.12,>=2.11->tensorflow-intel==2.11.0->tensorflow) (2.0.4)\nRequirement already satisfied: certifi>=2017.4.17 in c:\\users\\local\\anaconda3\\lib\\site-packages (from requests<3,>=2.21.0->tensorboard<2.12,>=2.11->tensorflow-intel==2.11.0->tensorflow) (2021.10.8)\nRequirement already satisfied: urllib3<1.27,>=1.21.1 in c:\\users\\local\\anaconda3\\lib\\site-packages (from requests<3,>=2.21.0->tensorboard<2.12,>=2.11->tensorflow-intel==2.11.0->tensorflow) (1.26.9)\nRequirement already satisfied: oauthlib>=3.0.0 in c:\\users\\local\\anaconda3\\lib\\site-packages (from requests-oauthlib>=0.7.0->google-auth-oauthlib<0.5,>=0.4.1->tensorboard<2.12,>=2.11->tensorflow-intel==2.11.0->tensorflow) (3.2.2)\nRequirement already satisfied: pyparsing!=3.0.5,>=2.0.2 in c:\\users\\local\\anaconda3\\lib\\site-packages (from packaging->tensorflow-intel==2.11.0->tensorflow) (3.0.4)\nNote: you may need to restart the kernel to use updated packages.\ntf.Tensor([1 2 3], shape=(3,), dtype=int32)\n\n\ntf.Tensor(\n[[1.1 2.2 3.3]\n [4.  5.  6. ]], shape=(2, 3), dtype=float32)\n\n\ntf.Tensor(\n[[1 2 3]\n [4 5 6]\n [7 8 9]], shape=(3, 3), dtype=int32)\n\n\ntf.Tensor([b'String_one' b'String_two' b'String_three'], shape=(3,), dtype=string)\n"
        }
      ],
      "execution_count": 45,
      "metadata": {
        "tags": []
      },
      "id": "d4bd6f02-b5b4-44a0-93e1-651a0d29baf9"
    },
    {
      "cell_type": "code",
      "source": [],
      "outputs": [],
      "execution_count": null,
      "metadata": {},
      "id": "5aa70980-3636-42be-8f2f-fc55bb0c22bb"
    },
    {
      "cell_type": "code",
      "source": [],
      "outputs": [],
      "execution_count": null,
      "metadata": {},
      "id": "57837287-63a0-4ada-a211-58d415c1ec6e"
    },
    {
      "cell_type": "code",
      "source": [],
      "outputs": [],
      "execution_count": null,
      "metadata": {},
      "id": "2a7307d3-9cf1-4bc3-8fa6-323a36723c05"
    },
    {
      "cell_type": "code",
      "source": [],
      "outputs": [],
      "execution_count": null,
      "metadata": {},
      "id": "68c92af7-c95a-463d-a620-82b2aba1ecc4"
    }
  ],
  "metadata": {
    "kernelspec": {
      "name": "python",
      "language": "python",
      "display_name": "Pyolite (preview)"
    },
    "language_info": {
      "codemirror_mode": {
        "name": "python",
        "version": 3
      },
      "file_extension": ".py",
      "mimetype": "text/x-python",
      "name": "python",
      "nbconvert_exporter": "python",
      "pygments_lexer": "ipython3",
      "version": "3.8"
    },
    "kernel_info": {
      "name": "python"
    },
    "nteract": {
      "version": "nteract-front-end@1.0.0"
    }
  },
  "nbformat": 4,
  "nbformat_minor": 5
}