{
 "cells": [
  {
   "cell_type": "code",
   "execution_count": 2,
   "metadata": {
    "collapsed": true
   },
   "outputs": [
    {
     "name": "stdout",
     "output_type": "stream",
     "text": [
      "Accuracy:  0.9777777777777777\n"
     ]
    }
   ],
   "source": [
    "import numpy as np\n",
    "import pandas as pd\n",
    "from sklearn.datasets import load_iris\n",
    "from sklearn.model_selection import train_test_split\n",
    "from typing import Callable\n",
    "\n",
    "# Funkcje odległości\n",
    "\n",
    "def euclidean_distance(a: list, b: list) -> float:\n",
    "    \"\"\"Oblicza odległość euklidesową między dwoma punktami a i b.\"\"\"\n",
    "    a, b = np.array(a), np.array(b)\n",
    "    diff = np.subtract(a, b)\n",
    "    diff_squared = np.square(diff)\n",
    "    return np.sqrt(diff_squared.sum())\n",
    "\n",
    "def manhattan_distance(a: list, b: list) -> float:\n",
    "    \"\"\"Oblicza odległość Manhattan między dwoma punktami a i b.\"\"\"\n",
    "    a, b = np.array(a), np.array(b)\n",
    "    diff = np.subtract(a, b)\n",
    "    absolute_diff = np.abs(diff)\n",
    "    return absolute_diff.sum()\n",
    "\n",
    "def cosine_similarity(a: list, b: list) -> float:\n",
    "    \"\"\"Oblicza podobieństwo kosinusowe między dwoma wektorami a i b.\"\"\"\n",
    "    a, b = np.array(a), np.array(b)\n",
    "    dot_product = np.dot(a, b)\n",
    "    norm_a = np.sqrt(np.square(a).sum())\n",
    "    norm_b = np.sqrt(np.square(b).sum())\n",
    "    return 1 - dot_product / (norm_a * norm_b)\n",
    "\n",
    "# Funkcje wag\n",
    "\n",
    "def constant_weight(_) -> float:\n",
    "    \"\"\"Funkcja wagowa, zwraca stałą wagę 1.\"\"\"\n",
    "    return 1.0\n",
    "\n",
    "def linear_weight(distance: float) -> float:\n",
    "    \"\"\"Funkcja wagowa, zwraca odległość jako wagę.\"\"\"\n",
    "    return distance\n",
    "\n",
    "def inverse_weight(distance: float) -> float:\n",
    "    \"\"\"Funkcja wagowa, zwraca odwrotność odległości jako wagę.\"\"\"\n",
    "    return 1 / distance if distance != 0 else np.inf\n",
    "\n",
    "# Klasyfikator KNN\n",
    "\n",
    "def knn_classifier(dataset: np.ndarray, sample: list, k: int, distance_func: Callable[[list, list], float],\n",
    "                   weight_func: Callable[[float], float], num_classes: int):\n",
    "    \"\"\"Implementacja klasyfikatora k najbliższych sąsiadów (KNN).\"\"\"\n",
    "    class_scores = np.zeros(num_classes, dtype=float)\n",
    "\n",
    "    # Obliczenie odległości i przypisanie klas dla wszystkich obiektów w zbiorze danych\n",
    "    distances_and_classes = []\n",
    "    for data_point, data_class in dataset:\n",
    "        distance = distance_func(data_point, sample)\n",
    "        distances_and_classes.append((distance, data_class))\n",
    "\n",
    "    # Posortowanie obiektów według odległości i wybranie k najbliższych\n",
    "    distances_and_classes.sort(key=lambda x: x[0])\n",
    "    k_nearest_neighbors = distances_and_classes[:k]\n",
    "\n",
    "    # Sumowanie ważonych odległości dla każdej klasy\n",
    "    for distance, obj_class in k_nearest_neighbors:\n",
    "        class_scores[int(obj_class)] += weight_func(distance)\n",
    "\n",
    "    # Zwrócenie klasy z najwyższym wynikiem lub listy wyników dla wszystkich klas\n",
    "    return np.argmax(class_scores)\n",
    "\n",
    "# Wczytanie danych\n",
    "\n",
    "def load_dataset(seed: int = 0) -> tuple:\n",
    "    \"\"\"Wczytuje zbiór danych i dzieli go na zbiór treningowy i testowy.\"\"\"\n",
    "    dataset = load_iris()\n",
    "    feature_vals_train, feature_vals_test, class_train, class_test = train_test_split(\n",
    "        dataset.data, dataset.target, test_size=0.3, random_state=seed)\n",
    "\n",
    "    train_data = pd.DataFrame()\n",
    "    test_data = pd.DataFrame()\n",
    "    train_data['features'], train_data['class'] = [*feature_vals_train], [*class_train]\n",
    "    test_data['features'], test_data['class'] = [*feature_vals_test], [*class_test]\n",
    "\n",
    "    return train_data.to_numpy(), test_data.to_numpy()\n",
    "\n",
    "# Przygotowanie danych treningowych i testowych\n",
    "\n",
    "train_data, test_data = load_dataset(seed=1)\n",
    "\n",
    "# Testowanie klasyfikatora\n",
    "\n",
    "accuracy = 0.0\n",
    "for sample, sample_class in test_data:\n",
    "    prediction = knn_classifier(dataset=train_data, sample=sample, k=3, distance_func=cosine_similarity,\n",
    "                                weight_func=inverse_weight, num_classes=3)\n",
    "    if prediction == sample_class:\n",
    "        accuracy += 1\n",
    "\n",
    "accuracy /= len(test_data)\n",
    "print('Accuracy: ', accuracy)"
   ]
  },
  {
   "cell_type": "markdown",
   "source": [],
   "metadata": {
    "collapsed": false
   }
  },
  {
   "cell_type": "markdown",
   "source": [
    "Kod, który przedstawiam, jest implementacją algorytmu k najbliższych sąsiadów (KNN) w języku Python. Algorytm ten jest popularnym modelem klasyfikacji, który przewiduje przynależność obiektu do jednej z klas na podstawie podobieństwa do jego najbliższych sąsiadów.\n",
    "\n",
    "Pierwszą częścią kodu jest wczytanie danych. Wykorzystujemy zbiór danych \"iris\" z pakietu scikit-learn. Następnie dzielimy go na zbiór treningowy i testowy, z których będziemy korzystać do trenowania i oceny klasyfikatora.\n",
    "\n",
    "Następnie definiujemy trzy funkcje odległości: odległość euklidesową, odległość Manhattan oraz podobieństwo kosinusowe. Funkcje te służą do porównywania odległości lub podobieństwa między dwoma punktami w przestrzeni cech. Wybieramy jedną z tych funkcji jako metrykę odległości w algorytmie KNN.\n",
    "\n",
    "Kolejnym krokiem jest zdefiniowanie trzech funkcji wagowych: stałej wagi, wagi liniowej i wagi odwrotnej. Te funkcje określają, jak bardzo odległość do sąsiadów ma wpływ na wynik klasyfikacji. Można dostosować funkcję wagową w zależności od potrzeb i charakterystyki danych.\n",
    "\n",
    "Następnie mamy główną funkcję knn_classifier, która implementuje algorytm KNN. Przyjmuje ona zbiór danych treningowych, obiekt do klasyfikacji, parametr k określający liczbę najbliższych sąsiadów, funkcję odległości, funkcję wagową oraz liczbę klas w zbiorze danych.\n",
    "\n",
    "W tej funkcji najpierw inicjalizujemy tablicę class_scores, która przechowuje sumy wyników poszczególnych klas. Następnie obliczamy odległość lub podobieństwo między obiektem testowym a każdym obiektem treningowym. Wyniki te przechowujemy w liście distances_and_classes, która zawiera odległość i przypisaną klasę dla każdego obiektu treningowego.\n",
    "\n",
    "Po obliczeniu odległości sortujemy obiekty według odległości i wybieramy k najbliższych sąsiadów. Następnie sumujemy ważone odległości dla każdej klasy na podstawie funkcji wagowej. Ostatecznie zwracamy indeks klasy z największą sumą jako wynik klasyfikacji.\n",
    "\n",
    "W dalszej części kodu inicjalizujemy dane treningowe i testowe za pomocą funkcji load_dataset. Następnie przeprowadzamy testowanie klasyfikatora na danych testowych. Dla każdego obiektu testowego wywołujemy funkcję knn_classifier i porównujemy wynik z rzeczywistą klasą. Obliczamy dokładność klasyfikacji przez podzielenie liczby poprawnych predykcji przez liczbę obiektów testowych.\n",
    "\n",
    "Na koniec wypisujemy dokładność klasyfikacji na konsoli."
   ],
   "metadata": {
    "collapsed": false
   }
  }
 ],
 "metadata": {
  "kernelspec": {
   "display_name": "Python 3",
   "language": "python",
   "name": "python3"
  },
  "language_info": {
   "codemirror_mode": {
    "name": "ipython",
    "version": 2
   },
   "file_extension": ".py",
   "mimetype": "text/x-python",
   "name": "python",
   "nbconvert_exporter": "python",
   "pygments_lexer": "ipython2",
   "version": "2.7.6"
  }
 },
 "nbformat": 4,
 "nbformat_minor": 0
}
